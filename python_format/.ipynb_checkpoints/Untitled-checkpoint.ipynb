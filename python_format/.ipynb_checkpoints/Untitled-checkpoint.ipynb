{
 "cells": [
  {
   "cell_type": "markdown",
   "metadata": {},
   "source": [
    "# 四种常见装饰器\n",
    "## 第一种 最基础类型"
   ]
  },
  {
   "cell_type": "code",
   "execution_count": 1,
   "metadata": {},
   "outputs": [
    {
     "name": "stdout",
     "output_type": "stream",
     "text": [
      "我准备开始执行：add 函数了:\n",
      "20 + 10 = 30\n",
      "主人，我执行完啦。\n"
     ]
    }
   ],
   "source": [
    "# 这是装饰器函数，参数 func 是被装饰的函数\n",
    "def logger(func):\n",
    "    def wrapper(*args, **kw):\n",
    "        print('我准备开始执行：{} 函数了:'.format(func.__name__))\n",
    "\n",
    "        # 真正执行的是这行。\n",
    "        func(*args, **kw)\n",
    "\n",
    "        print('主人，我执行完啦。')\n",
    "    return wrapper\n",
    "@logger\n",
    "def add(x, y):\n",
    "    print('{} + {} = {}'.format(x, y, x+y))\n",
    "add(20,10)"
   ]
  },
  {
   "cell_type": "markdown",
   "metadata": {},
   "source": [
    "## 可传入参数的装饰器\n",
    "需要两层嵌套"
   ]
  },
  {
   "cell_type": "code",
   "execution_count": 3,
   "metadata": {},
   "outputs": [
    {
     "name": "stdout",
     "output_type": "stream",
     "text": [
      "你好!\n",
      "------------\n",
      "hello.\n"
     ]
    }
   ],
   "source": [
    "def say_hello(contry):\n",
    "    def wrapper(func):\n",
    "        def deco(*args, **kwargs):\n",
    "            if contry == \"china\":\n",
    "                print(\"你好!\")\n",
    "            elif contry == \"america\":\n",
    "                print('hello.')\n",
    "            else:\n",
    "                return\n",
    "\n",
    "            # 真正执行函数的地方\n",
    "            func(*args, **kwargs)\n",
    "        return deco\n",
    "    return wrapper\n",
    "@say_hello(\"china\")\n",
    "def xiaoming():\n",
    "    pass\n",
    "# jack，美国人\n",
    "@say_hello(\"america\")\n",
    "def jack():\n",
    "    pass\n",
    "xiaoming()\n",
    "print(\"------------\")\n",
    "jack()"
   ]
  },
  {
   "cell_type": "markdown",
   "metadata": {},
   "source": [
    "## 基于类的装饰器\n",
    "基于类装饰器的实现，必须实现 __call__ 和 __init__两个内置函数。\n",
    "__init__ ：接收被装饰函数\n",
    "__call__ ：实现装饰逻辑。"
   ]
  },
  {
   "cell_type": "code",
   "execution_count": 4,
   "metadata": {},
   "outputs": [
    {
     "name": "stdout",
     "output_type": "stream",
     "text": [
      "[INFO]: the function say() is running...\n",
      "say hello!\n"
     ]
    }
   ],
   "source": [
    "class logger(object):\n",
    "    def __init__(self, func):\n",
    "        self.func = func\n",
    "\n",
    "    def __call__(self, *args, **kwargs):\n",
    "        print(\"[INFO]: the function {func}() is running...\"\\\n",
    "            .format(func=self.func.__name__))\n",
    "        return self.func(*args, **kwargs)\n",
    "\n",
    "@logger\n",
    "def say(something):\n",
    "    print(\"say {}!\".format(something))\n",
    "\n",
    "say(\"hello\")"
   ]
  },
  {
   "cell_type": "code",
   "execution_count": null,
   "metadata": {},
   "outputs": [],
   "source": [
    "## 基于类 传参的装饰器\n",
    "打印INFO级别的日志，正常情况下，我们还需要打印DEBUG WARNING等级别的日志。这就需要给类装饰器传入参数，给这个函数指定级别了。\n",
    "\n",
    "带参数和不带参数的类装饰器有很大的不同。\n",
    "\n",
    "__init__ ：不再接收被装饰函数，而是接收传入参数。\n",
    "__call__ ：接收被装饰函数，实现装饰逻辑。"
   ]
  },
  {
   "cell_type": "code",
   "execution_count": 5,
   "metadata": {},
   "outputs": [
    {
     "name": "stdout",
     "output_type": "stream",
     "text": [
      "[WARNING]: the function say() is running...\n",
      "say hello!\n"
     ]
    }
   ],
   "source": [
    "class logger(object):\n",
    "    def __init__(self, level='INFO'):\n",
    "        self.level = level\n",
    "\n",
    "    def __call__(self, func): # 接受函数\n",
    "        def wrapper(*args, **kwargs):\n",
    "            print(\"[{level}]: the function {func}() is running...\"\\\n",
    "                .format(level=self.level, func=func.__name__))\n",
    "            func(*args, **kwargs)\n",
    "        return wrapper  #返回函数\n",
    "\n",
    "@logger(level='WARNING')\n",
    "def say(something):\n",
    "    print(\"say {}!\".format(something))\n",
    "\n",
    "say(\"hello\")"
   ]
  },
  {
   "cell_type": "markdown",
   "metadata": {},
   "source": [
    "还有两种，"
   ]
  }
 ],
 "metadata": {
  "kernelspec": {
   "display_name": "Python 3",
   "language": "python",
   "name": "python3"
  },
  "language_info": {
   "codemirror_mode": {
    "name": "ipython",
    "version": 3
   },
   "file_extension": ".py",
   "mimetype": "text/x-python",
   "name": "python",
   "nbconvert_exporter": "python",
   "pygments_lexer": "ipython3",
   "version": "3.6.8"
  }
 },
 "nbformat": 4,
 "nbformat_minor": 2
}
